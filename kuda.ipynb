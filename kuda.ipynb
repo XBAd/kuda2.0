{
 "cells": [
  {
   "cell_type": "markdown",
   "metadata": {},
   "source": [
    "1.无重复插入neo4j，在插入过程中异步处理以下事情：\n",
    "\n",
    "处理实体id文件，如果数据库中已存在，则不处理，否则a+添加到id文件中\n",
    "处理triple文件，a+追加到triple.txt中\n",
    "重新建造碎片（步骤5-7）\n",
    "mention2ent记得添加\n",
    "\n",
    "2.调用java服务，reload碎片，添加mention2ent碎片\n",
    "\n",
    "优化一下关系抽取，提前加载好模型（主要是关系抽取模型）\n",
    "还有时间的话，把men2entity解决一下\n",
    "整合上线\n",
    "做ppt排练"
   ]
  },
  {
   "cell_type": "code",
   "execution_count": 113,
   "metadata": {},
   "outputs": [
    {
     "data": {
      "text/plain": [
       "<Response [200]>"
      ]
     },
     "execution_count": 113,
     "metadata": {},
     "output_type": "execute_result"
    }
   ],
   "source": [
    "spo_list=[{\"predicate\": \"作者\", \"object_type\": \"人物\", \"subject_type\": \"图书作品\", \"object\": \"祝晓羽\", \"subject\": \"九十人飞行组\"}]\n",
    "from py2neo import Graph,Node,Relationship\n",
    "import json\n",
    "import os\n",
    "import requests\n",
    "from pandas import DataFrame\n",
    "\n",
    "graph = Graph(\"bolt://123.57.203.185:7687/db/data/\", username=\"neo4j\", password=\"kuda\")\n",
    "\n",
    "theCypherQuery= '''MERGE (j:%s {name: $subject})\n",
    "MERGE (m:%s {name: $_object})\n",
    "MERGE (j)-[r:%s]->(m)\n",
    "RETURN id(j),type(r),id(m)'''\n",
    "\n",
    "nodeQuery =\"\"\"\n",
    "match (n) where n.name=$name return n\n",
    "\"\"\"\n",
    "\n",
    "relationQuery =\"\"\"\n",
    "match (a)-[r]->(b) where a.name=$a_name and b.name=$b_name return r\n",
    "\"\"\"\n",
    "\n",
    "id_file_path =\"/home/lx/IdeaProject/gAnswer/data/pkubase/fragments/id_mappings/pkubase_entity_id.txt\"\n",
    "triple_file_path = \"/home/lx/IdeaProject/gAnswer/data/pkubase/triple.txt\"\n",
    "\n",
    "def check_if_node_exist(name):\n",
    "    res = graph.run(nodeQuery,parameters = {'name':name}).data()\n",
    "    if len(res) > 0:\n",
    "        return True\n",
    "    else:\n",
    "        return False\n",
    "    \n",
    "def check_if_rel_exist(a_name,b_name):\n",
    "    res = graph.run(relationQuery,parameters = {'a_name':a_name,'b_name':b_name}).data()\n",
    "    if len(res) > 0:\n",
    "        return True\n",
    "    else:\n",
    "        return False\n",
    "\n",
    "def insert(thisCypherQuery,subject_type,subject,object_type,_object,predicate):\n",
    "    query = thisCypherQuery % (subject_type,object_type,predicate)\n",
    "    cypherResult = graph.run(query,parameters = {'subject':subject,'_object':_object}).data()\n",
    "    return cypherResult\n",
    "\n",
    "def get_predicates():\n",
    "    data = DataFrame(graph.run(\"match ()-[r]->() return distinct type(r)\").data())\n",
    "    predicates = []\n",
    "    for index, row in data.iterrows():\n",
    "        predicates.append(row.to_list()[0])\n",
    "    return predicates\n",
    "\n",
    "def get_labels():\n",
    "    label_list = []\n",
    "    labels = DataFrame(graph.run(\"call db.labels()\").data())\n",
    "    for index, row in labels.iterrows():\n",
    "        if index == 0:\n",
    "            continue\n",
    "        label_list.append(row.to_list()[0])\n",
    "    return label_list\n",
    "\n",
    "predicates = get_predicates()\n",
    "labels = get_labels()\n",
    "id_file = open(id_file_path,\"a+\")\n",
    "triple_file = open(triple_file_path,\"a+\")\n",
    "new_entity = \"\"\n",
    "for spo in spo_list:\n",
    "    subject_exist = check_if_node_exist(spo['subject'])\n",
    "    object_exist = check_if_node_exist(spo['object'])\n",
    "    triple_exist = check_if_rel_exist(spo['subject'],spo['object'])\n",
    "    \n",
    "    res = insert(theCypherQuery,spo['subject_type'],spo['subject'],spo['object_type'],spo['object'],spo['predicate'])\n",
    "    data = DataFrame(res)\n",
    "\n",
    "    for index,row in data.iterrows():\n",
    "        \n",
    "        \n",
    "        if not subject_exist:\n",
    "            new_entity+=spo['subject']+\",\"\n",
    "            if spo['subject_type']=='Date' or spo['subject_type']=='Number' or spo['subject_type']=='Text':\n",
    "                triple_file.write(str(row['id(j)']) + ' ' + '48 -1\\n')\n",
    "            else:\n",
    "                triple_file.write(str(row['id(j)'])+' '+'48 '+str(labels.index(spo['subject_type']))+'\\n')\n",
    "            id_file.write('<'+spo['subject']+'>\\t'+str(row['id(j)'])+'\\n')\n",
    "            \n",
    "            \n",
    "        if not object_exist:\n",
    "            new_entity+=spo['object']+\",\"\n",
    "            id_file.write('<'+spo['object']+'>\\t'+str(row['id(m)'])+'\\n')\n",
    "            if spo['object_type']=='Date' or spo['object_type']=='Number' or spo['object_type']=='Text':\n",
    "                triple_file.write(str(row['id(m)']) + ' ' + '48 -1\\n')\n",
    "            else:\n",
    "                triple_file.write(str(row['id(m)'])+' '+'48 '+str(labels.index(spo['object_type']))+'\\n')\n",
    "            \n",
    "            \n",
    "        if not triple_exist:\n",
    "            triple_file.write(str(row['id(j)'])+' '+str(predicates.index(row['type(r)']))+' '+str(row['id(m)'])+'\\n')\n",
    "            \n",
    "id_file.close()\n",
    "triple_file.close()\n",
    "new_entity = new_entity[:-1]\n",
    "os.system(\"python /home/lx/PycharmProjects/kuda2.0/genrate_fragments/step5_get_entity_fragment.py\")\n",
    "os.system(\"python /home/lx/PycharmProjects/kuda2.0/genrate_fragments/step6_get_type_fragment.py\")\n",
    "os.system(\"python /home/lx/PycharmProjects/kuda2.0/genrate_fragments/step7_get_predicate_fragment.py\")\n",
    "requests.post('http://localhost:8082/gReload/',data = new_entity.encode('utf-8'))"
   ]
  },
  {
   "cell_type": "code",
   "execution_count": 56,
   "metadata": {},
   "outputs": [
    {
     "name": "stdout",
     "output_type": "stream",
     "text": [
      "['图书作品', '人物', '机构', 'Text', '影视作品', '娱乐人物', 'Date', '历史人物', '国家', '电视综艺', '学校', '行政区', '气候', '企业', '奖项', '文学作品', '歌曲', '音乐专辑', 'Number', '地点', '景点', '城市', '作品', '企业/品牌', '语言', '学科专业']\n"
     ]
    }
   ],
   "source": [
    "print(labels)"
   ]
  },
  {
   "cell_type": "code",
   "execution_count": 95,
   "metadata": {},
   "outputs": [
    {
     "data": {
      "text/plain": [
       "<Response [200]>"
      ]
     },
     "execution_count": 95,
     "metadata": {},
     "output_type": "execute_result"
    }
   ],
   "source": [
    "import requests\n",
    "data = \"西班牙,墨西哥\"\n",
    "\n",
    "requests.post('http://localhost:8082/gReload/',data = data.encode('utf-8'))"
   ]
  },
  {
   "cell_type": "markdown",
   "metadata": {},
   "source": [
    "# 自然语言问题转换为cypher"
   ]
  },
  {
   "cell_type": "code",
   "execution_count": 57,
   "metadata": {},
   "outputs": [
    {
     "ename": "KeyError",
     "evalue": "'cypher'",
     "output_type": "error",
     "traceback": [
      "\u001b[0;31m---------------------------------------------------------------------------\u001b[0m",
      "\u001b[0;31mKeyError\u001b[0m                                  Traceback (most recent call last)",
      "\u001b[0;32m<ipython-input-57-54f7e728d74d>\u001b[0m in \u001b[0;36m<module>\u001b[0;34m\u001b[0m\n\u001b[1;32m      8\u001b[0m \u001b[0mcypher_res\u001b[0m \u001b[0;34m=\u001b[0m \u001b[0mrequests\u001b[0m\u001b[0;34m.\u001b[0m\u001b[0mget\u001b[0m\u001b[0;34m(\u001b[0m\u001b[0;34m'http://localhost:8082/gSolve/?data={question:\"周星驰获过哪些奖？\"}'\u001b[0m\u001b[0;34m)\u001b[0m\u001b[0;34m\u001b[0m\u001b[0;34m\u001b[0m\u001b[0m\n\u001b[1;32m      9\u001b[0m \u001b[0mobj\u001b[0m \u001b[0;34m=\u001b[0m \u001b[0mjson\u001b[0m\u001b[0;34m.\u001b[0m\u001b[0mloads\u001b[0m\u001b[0;34m(\u001b[0m\u001b[0mcypher_res\u001b[0m\u001b[0;34m.\u001b[0m\u001b[0mtext\u001b[0m\u001b[0;34m)\u001b[0m\u001b[0;34m\u001b[0m\u001b[0;34m\u001b[0m\u001b[0m\n\u001b[0;32m---> 10\u001b[0;31m \u001b[0mcypher\u001b[0m \u001b[0;34m=\u001b[0m \u001b[0mobj\u001b[0m\u001b[0;34m[\u001b[0m\u001b[0;34m'cypher'\u001b[0m\u001b[0;34m]\u001b[0m\u001b[0;34m\u001b[0m\u001b[0;34m\u001b[0m\u001b[0m\n\u001b[0m\u001b[1;32m     11\u001b[0m \u001b[0mdata\u001b[0m \u001b[0;34m=\u001b[0m \u001b[0mDataFrame\u001b[0m\u001b[0;34m(\u001b[0m\u001b[0mgraph\u001b[0m\u001b[0;34m.\u001b[0m\u001b[0mrun\u001b[0m\u001b[0;34m(\u001b[0m\u001b[0mcypher\u001b[0m\u001b[0;34m)\u001b[0m\u001b[0;34m.\u001b[0m\u001b[0mdata\u001b[0m\u001b[0;34m(\u001b[0m\u001b[0;34m)\u001b[0m\u001b[0;34m)\u001b[0m\u001b[0;34m\u001b[0m\u001b[0;34m\u001b[0m\u001b[0m\n\u001b[1;32m     12\u001b[0m \u001b[0mres\u001b[0m \u001b[0;34m=\u001b[0m \u001b[0;34m[\u001b[0m\u001b[0;34m]\u001b[0m\u001b[0;34m\u001b[0m\u001b[0;34m\u001b[0m\u001b[0m\n",
      "\u001b[0;31mKeyError\u001b[0m: 'cypher'"
     ]
    }
   ],
   "source": [
    "import requests\n",
    "import json\n",
    "from py2neo import Graph,Node,Relationship\n",
    "import os\n",
    "from pandas import DataFrame\n",
    "\n",
    "graph = Graph(\"bolt://123.57.203.185:7687/db/data/\", username=\"neo4j\", password=\"kuda\")\n",
    "cypher_res = requests.get('http://localhost:8082/gSolve/?data={question:\"周星驰获过哪些奖？\"}')\n",
    "obj = json.loads(cypher_res.text)\n",
    "cypher = obj['cypher']\n",
    "data = DataFrame(graph.run(cypher).data())\n",
    "res = []\n",
    "for index, row in data.iterrows():\n",
    "    try:\n",
    "        res.append(row['a']['name'])\n",
    "    except:\n",
    "        pass\n",
    "    try:\n",
    "        res.append(row['b']['name'])\n",
    "    except:\n",
    "        pass\n",
    "print(res)"
   ]
  },
  {
   "cell_type": "markdown",
   "metadata": {},
   "source": [
    "# 提供服务"
   ]
  },
  {
   "cell_type": "code",
   "execution_count": 124,
   "metadata": {},
   "outputs": [
    {
     "name": "stdout",
     "output_type": "stream",
     "text": [
      " * Serving Flask app \"__main__\" (lazy loading)\n",
      " * Environment: production\n",
      "   WARNING: This is a development server. Do not use it in a production deployment.\n",
      "   Use a production WSGI server instead.\n",
      " * Debug mode: on\n"
     ]
    },
    {
     "name": "stderr",
     "output_type": "stream",
     "text": [
      " * Running on http://0.0.0.0:5000/ (Press CTRL+C to quit)\n",
      " * Restarting with stat\n"
     ]
    },
    {
     "ename": "SystemExit",
     "evalue": "1",
     "output_type": "error",
     "traceback": [
      "An exception has occurred, use %tb to see the full traceback.\n",
      "\u001b[0;31mSystemExit\u001b[0m\u001b[0;31m:\u001b[0m 1\n"
     ]
    },
    {
     "name": "stderr",
     "output_type": "stream",
     "text": [
      "/home/lx/anaconda3/envs/kg/lib/python3.6/site-packages/IPython/core/interactiveshell.py:3339: UserWarning: To exit: use 'exit', 'quit', or Ctrl-D.\n",
      "  warn(\"To exit: use 'exit', 'quit', or Ctrl-D.\", stacklevel=1)\n"
     ]
    }
   ],
   "source": [
    "import json\n",
    "from flask import Flask\n",
    "from flask import request\n",
    "import requests\n",
    "\n",
    "\n",
    "app = Flask(__name__)\n",
    "\n",
    "# 4.提供rest服务\n",
    "# 用户提交post请求，body是{\"text\":\"\"}\n",
    "@app.route('/',methods=[\"POST\"])\n",
    "def rest():\n",
    "    text = request.form['spos']\n",
    "    print(text[0])\n",
    "    global segmentor\n",
    "    global postagger\n",
    "\n",
    "    return \"\"\n",
    "if __name__ == '__main__':\n",
    "    global segmentor\n",
    "    global postagger\n",
    "    \n",
    "    app.config['JSON_AS_ASCII'] = False\n",
    "    app.run(host=\"0.0.0.0\", port=5000, debug=True)\n"
   ]
  },
  {
   "cell_type": "code",
   "execution_count": 123,
   "metadata": {},
   "outputs": [
    {
     "name": "stdout",
     "output_type": "stream",
     "text": [
      "Looking in indexes: https://pypi.tuna.tsinghua.edu.cn/simple/\n",
      "Collecting flask\n",
      "  Downloading https://pypi.tuna.tsinghua.edu.cn/packages/f2/28/2a03252dfb9ebf377f40fba6a7841b47083260bf8bd8e737b0c6952df83f/Flask-1.1.2-py2.py3-none-any.whl (94 kB)\n",
      "\u001b[K     |████████████████████████████████| 94 kB 247 kB/s eta 0:00:011\n",
      "\u001b[?25hRequirement already satisfied: Jinja2>=2.10.1 in /home/lx/anaconda3/envs/kg/lib/python3.6/site-packages (from flask) (2.11.2)\n",
      "Collecting itsdangerous>=0.24\n",
      "  Downloading https://pypi.tuna.tsinghua.edu.cn/packages/76/ae/44b03b253d6fade317f32c24d100b3b35c2239807046a4c953c7b89fa49e/itsdangerous-1.1.0-py2.py3-none-any.whl (16 kB)\n",
      "Collecting Werkzeug>=0.15\n",
      "  Downloading https://pypi.tuna.tsinghua.edu.cn/packages/cc/94/5f7079a0e00bd6863ef8f1da638721e9da21e5bacee597595b318f71d62e/Werkzeug-1.0.1-py2.py3-none-any.whl (298 kB)\n",
      "\u001b[K     |████████████████████████████████| 298 kB 25 kB/s eta 0:00:011\n",
      "\u001b[?25hRequirement already satisfied: click>=5.1 in /home/lx/anaconda3/envs/kg/lib/python3.6/site-packages (from flask) (7.0)\n",
      "Requirement already satisfied: MarkupSafe>=0.23 in /home/lx/anaconda3/envs/kg/lib/python3.6/site-packages (from Jinja2>=2.10.1->flask) (1.1.1)\n",
      "Installing collected packages: itsdangerous, Werkzeug, flask\n",
      "Successfully installed Werkzeug-1.0.1 flask-1.1.2 itsdangerous-1.1.0\n"
     ]
    }
   ],
   "source": [
    "!pip install flask"
   ]
  },
  {
   "cell_type": "code",
   "execution_count": 36,
   "metadata": {},
   "outputs": [
    {
     "data": {
      "text/plain": [
       "<Response [200]>"
      ]
     },
     "execution_count": 36,
     "metadata": {},
     "output_type": "execute_result"
    }
   ],
   "source": [
    "import requests\n",
    "spos = [{\"predicate\": \"作者\", \"object_type\": \"人物\", \"subject_type\": \"图书作品\", \"object\": \"祝晓羽\", \"subject\": \"六千万人飞行组\"}]\n",
    "res = {\"spos\":spos}\n",
    "requests.post('http://123.57.203.185:5000/',data = str(res).encode('utf-8'))"
   ]
  },
  {
   "cell_type": "code",
   "execution_count": 28,
   "metadata": {},
   "outputs": [
    {
     "name": "stdout",
     "output_type": "stream",
     "text": [
      "['图书作品', '人物', '机构', 'Text', '影视作品', '娱乐人物', 'Date', '历史人物', '国家', '电视综艺', '学校', '行政区', '气候', '企业', '奖项', '文学作品', '歌曲', '音乐专辑', 'Number', '地点', '景点', '城市', '作品', '企业/品牌', '语言', '学科专业']\n"
     ]
    }
   ],
   "source": [
    "from py2neo import Graph, Node, Relationship\n",
    "import json\n",
    "import os\n",
    "import requests\n",
    "from pandas import DataFrame\n",
    "from flask import Flask\n",
    "from flask import request\n",
    "app = Flask(__name__)\n",
    "\n",
    "\n",
    "graph = Graph(\"bolt://123.57.203.185:7687/db/data/\", username=\"neo4j\", password=\"kuda\")\n",
    "\n",
    "\n",
    "label_list = []\n",
    "labels = DataFrame(graph.run(\"call db.labels()\").data())\n",
    "for index, row in labels.iterrows():\n",
    "#     if index == 0:\n",
    "#         continue\n",
    "#     print(row.to_list())\n",
    "    label_list.append(row.to_list()[0])\n",
    "print(label_list)"
   ]
  },
  {
   "cell_type": "markdown",
   "metadata": {},
   "source": [
    "['图书作品', '人物', '机构', 'Text', '影视作品', '娱乐人物', 'Date', '历史人物', '国家', '电视综艺', '学校', '行政区', '气候', '企业', '奖项', '文学作品', '歌曲', '音乐专辑', 'Number', '地点', '景点', '城市', '作品', '企业/品牌', '语言', '学科专业']"
   ]
  }
 ],
 "metadata": {
  "kernelspec": {
   "display_name": "Python [conda env:kg] *",
   "language": "python",
   "name": "conda-env-kg-py"
  },
  "language_info": {
   "codemirror_mode": {
    "name": "ipython",
    "version": 3
   },
   "file_extension": ".py",
   "mimetype": "text/x-python",
   "name": "python",
   "nbconvert_exporter": "python",
   "pygments_lexer": "ipython3",
   "version": "3.6.10"
  }
 },
 "nbformat": 4,
 "nbformat_minor": 4
}
