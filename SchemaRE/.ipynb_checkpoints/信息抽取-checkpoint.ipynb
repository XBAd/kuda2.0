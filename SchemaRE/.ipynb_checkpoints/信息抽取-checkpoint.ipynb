{
 "cells": [
  {
   "cell_type": "markdown",
   "metadata": {},
   "source": [
    "## 1.数据准备"
   ]
  },
  {
   "cell_type": "markdown",
   "metadata": {},
   "source": [
    "目前格式：\n",
    "{\"text\": \"（电影里让我直接想起来的还有——吴宇森导演的《辣手神探》的殓房的秘门啊\", \"spo_list\": [{\"predicate\": \"导演\", \"object_type\": {\"@value\": \"人物\"}, \"subject_type\": \"影视作品\", \"object\": {\"@value\": \"吴宇森\"}, \"subject\": \"辣手神探\"}]}\n",
    "\n",
    "目标格式：\n",
    "{\"postag\": [{\"word\": \"内容\", \"pos\": \"n\"}, {\"word\": \"简介\", \"pos\": \"n\"}, {\"word\": \"《\", \"pos\": \"w\"}, {\"word\": \"宜兴紫砂图典\", \"pos\": \"nw\"}, {\"word\": \"》\", \"pos\": \"w\"}, {\"word\": \"由\", \"pos\": \"p\"}, {\"word\": \"故宫出版社\", \"pos\": \"nt\"}, {\"word\": \"出版\", \"pos\": \"v\"}], \"text\": \"内容简介《宜兴紫砂图典》由故宫出版社出版\", \"spo_list\": [{\"predicate\": \"出版社\", \"object_type\": \"出版社\", \"subject_type\": \"书籍\", \"object\": \"故宫出版社\", \"subject\": \"宜兴紫砂图典\"}]}\n"
   ]
  },
  {
   "cell_type": "code",
   "execution_count": 5,
   "metadata": {},
   "outputs": [
    {
     "name": "stdout",
     "output_type": "stream",
     "text": [
      "{'text': '《邪少兵王》是冰火未央写的网络小说连载于旗峰天下', 'spo_list': [{'predicate': '作者', 'object_type': '人物', 'subject_type': '图书作品', 'object': '冰火未央', 'subject': '邪少兵王'}]}\n"
     ]
    }
   ],
   "source": [
    "import json\n",
    "train_data = open('./train_data/train_data/train_data.json')\n",
    "line = json.loads(train_data.readline())\n",
    "for each_spo in line['spo_list']:\n",
    "    each_spo['object_type'] = each_spo['object_type']['@value']\n",
    "    each_spo['object'] = each_spo['object']['@value']\n",
    "print(line)"
   ]
  },
  {
   "cell_type": "code",
   "execution_count": null,
   "metadata": {},
   "outputs": [],
   "source": []
  }
 ],
 "metadata": {
  "kernelspec": {
   "display_name": "Python 3",
   "language": "python",
   "name": "python3"
  },
  "language_info": {
   "codemirror_mode": {
    "name": "ipython",
    "version": 3
   },
   "file_extension": ".py",
   "mimetype": "text/x-python",
   "name": "python",
   "nbconvert_exporter": "python",
   "pygments_lexer": "ipython3",
   "version": "3.7.6"
  }
 },
 "nbformat": 4,
 "nbformat_minor": 4
}
