{
 "cells": [
  {
   "cell_type": "code",
   "execution_count": 99,
   "metadata": {},
   "outputs": [
    {
     "data": {
      "application/javascript": [
       "var link = document.createElement(\"link\");\n",
       "\tlink.ref = \"stylesheet\";\n",
       "\tlink.type = \"text/css\";\n",
       "\tlink.href = \"https://cdnjs.cloudflare.com/ajax/libs/vis/4.8.2/vis.css\";\n",
       "\tdocument.head.appendChild(link);\n",
       "require.config({     paths: {         vis: '//cdnjs.cloudflare.com/ajax/libs/vis/4.8.2/vis.min'     } }); require(['vis'], function(vis) {  window.vis = vis; }); "
      ],
      "text/plain": [
       "<IPython.core.display.Javascript object>"
      ]
     },
     "metadata": {},
     "output_type": "display_data"
    }
   ],
   "source": [
    "# !pip uninstall py2neo\n",
    "# !pip install py2neo==3.1.2\n",
    "# !pip install neo4jupyter\n",
    "import neo4jupyter\n",
    "neo4jupyter.init_notebook_mode()"
   ]
  },
  {
   "cell_type": "code",
   "execution_count": null,
   "metadata": {},
   "outputs": [],
   "source": [
    "1.处理数据"
   ]
  },
  {
   "cell_type": "code",
   "execution_count": 18,
   "metadata": {},
   "outputs": [],
   "source": [
    "generate_data = open(\"./neo4j_data.json\",'a+')\n",
    "with open('./train_data.json','r') as train_data:\n",
    "    for each_line in train_data:\n",
    "        line = json.loads(each_line)\n",
    "        for each_spo in line['spo_list']:\n",
    "            each_spo['object_type'] = each_spo['object_type']['@value']\n",
    "            each_spo['object'] = each_spo['object']['@value']\n",
    "        generate_data.write(str(line))\n",
    "        generate_data.write('\\n')\n",
    "generate_data.close()"
   ]
  },
  {
   "cell_type": "markdown",
   "metadata": {},
   "source": [
    "2.然后把neo4j_data.json录入数据库"
   ]
  },
  {
   "cell_type": "code",
   "execution_count": null,
   "metadata": {},
   "outputs": [],
   "source": [
    "from py2neo import Graph,Node,Relationship\n",
    "import json\n",
    "graph = Graph(\"bolt://localhost:7687/db/schemaKG/\", username=\"neo4j\", password=\"kuda\")\n",
    "graph.delete_all()\n",
    "with open('./neo4j_data.json','r') as f:\n",
    "        while True:\n",
    "            line = f.readline()\n",
    "            if not line:\n",
    "                break\n",
    "            try:\n",
    "                line = json.loads(line)\n",
    "            except:\n",
    "                continue\n",
    "            for spo in line['spo_list']:\n",
    "    #             创建节点\n",
    "                subject_node = Node(spo['subject_type'],name=spo['subject'])\n",
    "                object_node = Node(spo['object_type'],name=spo['object'])\n",
    "                graph.create(subject_node)\n",
    "                graph.create(object_node)\n",
    "    #             创建关系\n",
    "                relation = Relationship(subject_node,spo['predicate'],object_node)\n",
    "                graph.create(relation)"
   ]
  },
  {
   "cell_type": "markdown",
   "metadata": {},
   "source": [
    "3.生成id文件"
   ]
  },
  {
   "cell_type": "code",
   "execution_count": 1,
   "metadata": {},
   "outputs": [],
   "source": [
    "from py2neo import Graph\n",
    "from pandas import DataFrame\n",
    "\n",
    "graph = Graph(\"bolt://localhost:7687/db/schemaKG/\", username=\"neo4j\", password=\"kuda\")\n",
    "\n",
    "\n",
    "with open(\"./pkubase_entity_id.txt\",\"w\") as f:\n",
    "    data = DataFrame(graph.run(\"match (n) return id(n),n\").data())\n",
    "    for index,row in data.iterrows():\n",
    "        f.write('<'+row['n']['name']+'>\\t'+str(row['id(n)'])+'\\n')"
   ]
  },
  {
   "cell_type": "markdown",
   "metadata": {},
   "source": [
    "# store2neo4j.py"
   ]
  },
  {
   "cell_type": "code",
   "execution_count": 52,
   "metadata": {},
   "outputs": [
    {
     "ename": "TransactionError",
     "evalue": "<py2neo.database.Transaction object at 0x7f8b6dbab748>",
     "output_type": "error",
     "traceback": [
      "\u001b[0;31m---------------------------------------------------------------------------\u001b[0m",
      "\u001b[0;31mTransactionError\u001b[0m                          Traceback (most recent call last)",
      "\u001b[0;32m<ipython-input-52-af4421551348>\u001b[0m in \u001b[0;36m<module>\u001b[0;34m\u001b[0m\n\u001b[1;32m     19\u001b[0m \u001b[0;31m#                 graph.merge(subject_node)\u001b[0m\u001b[0;34m\u001b[0m\u001b[0;34m\u001b[0m\u001b[0;34m\u001b[0m\u001b[0m\n\u001b[1;32m     20\u001b[0m \u001b[0;31m#                 graph.merge(object_node)\u001b[0m\u001b[0;34m\u001b[0m\u001b[0;34m\u001b[0m\u001b[0;34m\u001b[0m\u001b[0m\n\u001b[0;32m---> 21\u001b[0;31m                 \u001b[0mtx\u001b[0m\u001b[0;34m.\u001b[0m\u001b[0mmerge\u001b[0m\u001b[0;34m(\u001b[0m\u001b[0msubject_node\u001b[0m\u001b[0;34m,\u001b[0m\u001b[0mspo\u001b[0m\u001b[0;34m[\u001b[0m\u001b[0;34m'subject_type'\u001b[0m\u001b[0;34m]\u001b[0m\u001b[0;34m,\u001b[0m\u001b[0;34m'name'\u001b[0m\u001b[0;34m)\u001b[0m\u001b[0;34m\u001b[0m\u001b[0;34m\u001b[0m\u001b[0m\n\u001b[0m\u001b[1;32m     22\u001b[0m                 \u001b[0mtx\u001b[0m\u001b[0;34m.\u001b[0m\u001b[0mmerge\u001b[0m\u001b[0;34m(\u001b[0m\u001b[0mobject_node\u001b[0m\u001b[0;34m,\u001b[0m\u001b[0mspo\u001b[0m\u001b[0;34m[\u001b[0m\u001b[0;34m'object_type'\u001b[0m\u001b[0;34m]\u001b[0m\u001b[0;34m,\u001b[0m\u001b[0;34m'name'\u001b[0m\u001b[0;34m)\u001b[0m\u001b[0;34m\u001b[0m\u001b[0;34m\u001b[0m\u001b[0m\n\u001b[1;32m     23\u001b[0m     \u001b[0;31m#             创建关系\u001b[0m\u001b[0;34m\u001b[0m\u001b[0;34m\u001b[0m\u001b[0;34m\u001b[0m\u001b[0m\n",
      "\u001b[0;32m~/anaconda3/envs/kg/lib/python3.6/site-packages/py2neo/database.py\u001b[0m in \u001b[0;36mmerge\u001b[0;34m(self, subgraph, primary_label, primary_key)\u001b[0m\n",
      "\u001b[0;32m~/anaconda3/envs/kg/lib/python3.6/site-packages/py2neo/data.py\u001b[0m in \u001b[0;36m__db_merge__\u001b[0;34m(self, tx, primary_label, primary_key)\u001b[0m\n",
      "\u001b[0;32m~/anaconda3/envs/kg/lib/python3.6/site-packages/py2neo/internal/operations.py\u001b[0m in \u001b[0;36mmerge_subgraph\u001b[0;34m(tx, subgraph, p_label, p_key)\u001b[0m\n",
      "\u001b[0;32m~/anaconda3/envs/kg/lib/python3.6/site-packages/py2neo/internal/operations.py\u001b[0m in \u001b[0;36m_merge_nodes\u001b[0;34m(tx, p_label, p_key, labels, data)\u001b[0m\n",
      "\u001b[0;32m~/anaconda3/envs/kg/lib/python3.6/site-packages/py2neo/database.py\u001b[0m in \u001b[0;36mrun\u001b[0;34m(self, cypher, parameters, **kwparameters)\u001b[0m\n",
      "\u001b[0;32m~/anaconda3/envs/kg/lib/python3.6/site-packages/py2neo/database.py\u001b[0m in \u001b[0;36m_assert_unfinished\u001b[0;34m(self)\u001b[0m\n",
      "\u001b[0;31mTransactionError\u001b[0m: <py2neo.database.Transaction object at 0x7f8b6dbab748>"
     ]
    }
   ],
   "source": [
    "from py2neo import Graph,Node,Relationship\n",
    "import json\n",
    "graph = Graph(\"bolt://localhost:7687/db/schemaKG/\", username=\"neo4j\", password=\"kuda\")\n",
    "graph.delete_all()\n",
    "with open('./neo4j_data.json','r') as f:\n",
    "        while True:\n",
    "            line = f.readline()\n",
    "            if not line:\n",
    "                break\n",
    "            try:\n",
    "                line = json.loads(line)\n",
    "            except:\n",
    "                continue\n",
    "            for spo in line['spo_list']:\n",
    "    #             创建节点\n",
    "                subject_node = Node(spo['subject_type'],name=spo['subject'])\n",
    "                object_node = Node(spo['object_type'],name=spo['object'])\n",
    "                graph.create(subject_node)\n",
    "                graph.create(object_node)\n",
    "    #             创建关系\n",
    "                relation = Relationship(subject_node,spo['predicate'],object_node)\n",
    "                graph.create(relation)"
   ]
  },
  {
   "cell_type": "markdown",
   "metadata": {},
   "source": [
    "合并节点\n",
    "MATCH (n)\n",
    "WITH n.name AS name, COLLECT(n) AS nodelist, COUNT(*) AS count\n",
    "WHERE count > 1\n",
    "CALL apoc.refactor.mergeNodes(nodelist) YIELD node\n",
    "RETURN node"
   ]
  },
  {
   "cell_type": "markdown",
   "metadata": {},
   "source": [
    "删除重复关系\n",
    "MATCH (a)-[r]->(b)\n",
    "WITH a, b, TAIL (COLLECT (r)) as rr\n",
    "FOREACH (r IN rr | DELETE r)"
   ]
  },
  {
   "cell_type": "markdown",
   "metadata": {},
   "source": [
    "# 先尝试按原ganswer方法生成idmap"
   ]
  },
  {
   "cell_type": "code",
   "execution_count": 54,
   "metadata": {},
   "outputs": [
    {
     "ename": "AttributeError",
     "evalue": "module 'py2neo.database' has no attribute 'cursor'",
     "output_type": "error",
     "traceback": [
      "\u001b[0;31m---------------------------------------------------------------------------\u001b[0m",
      "\u001b[0;31mAttributeError\u001b[0m                            Traceback (most recent call last)",
      "\u001b[0;32m<ipython-input-54-571ea17aa386>\u001b[0m in \u001b[0;36m<module>\u001b[0;34m\u001b[0m\n\u001b[1;32m      1\u001b[0m \u001b[0;32mfrom\u001b[0m \u001b[0mpy2neo\u001b[0m \u001b[0;32mimport\u001b[0m \u001b[0mdatabase\u001b[0m\u001b[0;34m\u001b[0m\u001b[0;34m\u001b[0m\u001b[0m\n\u001b[0;32m----> 2\u001b[0;31m \u001b[0mprint\u001b[0m\u001b[0;34m(\u001b[0m\u001b[0mdatabase\u001b[0m\u001b[0;34m.\u001b[0m\u001b[0mcursor\u001b[0m\u001b[0;34m.\u001b[0m\u001b[0mevaluate\u001b[0m\u001b[0;34m(\u001b[0m\u001b[0;34m)\u001b[0m\u001b[0;34m)\u001b[0m\u001b[0;34m\u001b[0m\u001b[0;34m\u001b[0m\u001b[0m\n\u001b[0m",
      "\u001b[0;31mAttributeError\u001b[0m: module 'py2neo.database' has no attribute 'cursor'"
     ]
    }
   ],
   "source": [
    "from py2neo import database\n",
    "print(database.cursor.evaluate())"
   ]
  },
  {
   "cell_type": "code",
   "execution_count": 100,
   "metadata": {},
   "outputs": [
    {
     "name": "stdout",
     "output_type": "stream",
     "text": [
      "0\n"
     ]
    },
    {
     "ename": "TypeError",
     "evalue": "'LabelSetView' object is not callable",
     "output_type": "error",
     "traceback": [
      "\u001b[0;31m---------------------------------------------------------------------------\u001b[0m",
      "\u001b[0;31mTypeError\u001b[0m                                 Traceback (most recent call last)",
      "\u001b[0;32m<ipython-input-100-4984dc6ee748>\u001b[0m in \u001b[0;36m<module>\u001b[0;34m\u001b[0m\n\u001b[1;32m      5\u001b[0m \u001b[0;32mfor\u001b[0m \u001b[0mindex\u001b[0m\u001b[0;34m,\u001b[0m\u001b[0mrow\u001b[0m \u001b[0;32min\u001b[0m \u001b[0mdata\u001b[0m\u001b[0;34m.\u001b[0m\u001b[0miterrows\u001b[0m\u001b[0;34m(\u001b[0m\u001b[0;34m)\u001b[0m\u001b[0;34m:\u001b[0m\u001b[0;34m\u001b[0m\u001b[0;34m\u001b[0m\u001b[0m\n\u001b[1;32m      6\u001b[0m     \u001b[0mprint\u001b[0m\u001b[0;34m(\u001b[0m\u001b[0mindex\u001b[0m\u001b[0;34m)\u001b[0m\u001b[0;34m\u001b[0m\u001b[0;34m\u001b[0m\u001b[0m\n\u001b[0;32m----> 7\u001b[0;31m     \u001b[0mprint\u001b[0m\u001b[0;34m(\u001b[0m\u001b[0mrow\u001b[0m\u001b[0;34m[\u001b[0m\u001b[0;34m'n'\u001b[0m\u001b[0;34m]\u001b[0m\u001b[0;34m.\u001b[0m\u001b[0mlabels\u001b[0m\u001b[0;34m(\u001b[0m\u001b[0;34m)\u001b[0m\u001b[0;34m)\u001b[0m\u001b[0;34m\u001b[0m\u001b[0;34m\u001b[0m\u001b[0m\n\u001b[0m\u001b[1;32m      8\u001b[0m     \u001b[0;32mbreak\u001b[0m\u001b[0;34m\u001b[0m\u001b[0;34m\u001b[0m\u001b[0m\n",
      "\u001b[0;31mTypeError\u001b[0m: 'LabelSetView' object is not callable"
     ]
    }
   ],
   "source": [
    "from py2neo import Graph\n",
    "from pandas import DataFrame\n",
    "graph = Graph(\"bolt://localhost:7687/db/schemaKG/\", username=\"neo4j\", password=\"kuda\")\n",
    "data = DataFrame(graph.run(\"match (n) where n.name='西门无恨' return n\").data())\n",
    "for index,row in data.iterrows():\n",
    "    print(index)\n",
    "    print(row['n'].labels())\n",
    "    break"
   ]
  },
  {
   "cell_type": "code",
   "execution_count": 101,
   "metadata": {},
   "outputs": [
    {
     "name": "stdout",
     "output_type": "stream",
     "text": [
      "['饰演', '主演', '成立日期', '上映时间', '母亲', '妻子', '父亲', '丈夫', '董事长', '毕业院校', '改编自', '代言人', '导演', '嘉宾', '歌手', '主持人', '作词', '作曲', '作者', '朝代', '国籍', '祖籍', '总部地点', '主题曲', '号', '出品公司', '配音', '主角', '所属专辑', '编剧', '校长', '所在城市', '首都', '简称', '制片人', '创始人', '获奖', '面积', '占地面积', '气候', '人口数量', '票房', '海拔', '注册资本', '官方语言', '修业年限', '邮政编码', '专业代码']\n"
     ]
    }
   ],
   "source": [
    "from py2neo import Graph\n",
    "from pandas import DataFrame\n",
    "\n",
    "graph = Graph(\"bolt://localhost:7687/db/schemaKG/\", username=\"neo4j\", password=\"kuda\")\n",
    "\n",
    "data = DataFrame(graph.run(\"match ()-[r]->() return distinct type(r)\").data())\n",
    "predicates = []\n",
    "for index, row in data.iterrows():\n",
    "   predicates.append(row.to_list()[0])\n",
    "print(predicates)"
   ]
  },
  {
   "cell_type": "code",
   "execution_count": 104,
   "metadata": {},
   "outputs": [
    {
     "name": "stdout",
     "output_type": "stream",
     "text": [
      "['图书作品', '影视作品']\n",
      "2068\n"
     ]
    }
   ],
   "source": [
    "from py2neo import Graph\n",
    "from pandas import DataFrame\n",
    "\n",
    "data = DataFrame(graph.run(\"match (a) where a.name='天龙八部'  return id(a),labels(a)\").data())\n",
    "for row in data.iterrows():\n",
    "    obj = row[1].to_dict()\n",
    "    print(obj['labels(a)'])\n",
    "    print(obj['id(a)'])"
   ]
  },
  {
   "cell_type": "code",
   "execution_count": 7,
   "metadata": {},
   "outputs": [
    {
     "name": "stdout",
     "output_type": "stream",
     "text": [
      "1\n",
      "0\n",
      "1\n"
     ]
    }
   ],
   "source": [
    "with open('/home/lx/PycharmProjects/kuda2.0/triple.txt', 'r') as f:\n",
    "    i = 1\n",
    "    for line in f:\n",
    "        tri = line.split(' ')\n",
    "        print(tri[2].strip())\n",
    "        print(tri[0])\n",
    "        print(tri[1])\n",
    "        break"
   ]
  },
  {
   "cell_type": "code",
   "execution_count": 4,
   "metadata": {},
   "outputs": [
    {
     "name": "stdout",
     "output_type": "stream",
     "text": [
      "1\n",
      "2\n"
     ]
    }
   ],
   "source": [
    "print(1)\n",
    "print(2)"
   ]
  },
  {
   "cell_type": "code",
   "execution_count": null,
   "metadata": {},
   "outputs": [],
   "source": []
  }
 ],
 "metadata": {
  "celltoolbar": "Raw Cell Format",
  "kernelspec": {
   "display_name": "Python 3",
   "language": "python",
   "name": "python3"
  },
  "language_info": {
   "codemirror_mode": {
    "name": "ipython",
    "version": 3
   },
   "file_extension": ".py",
   "mimetype": "text/x-python",
   "name": "python",
   "nbconvert_exporter": "python",
   "pygments_lexer": "ipython3",
   "version": "3.6.10"
  }
 },
 "nbformat": 4,
 "nbformat_minor": 4
}
