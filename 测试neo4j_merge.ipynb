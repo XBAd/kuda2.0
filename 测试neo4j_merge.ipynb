{
 "cells": [
  {
   "cell_type": "markdown",
   "metadata": {},
   "source": [
    "1.无重复插入neo4j，在插入过程中异步处理以下事情：\n",
    "\n",
    "处理实体id文件，如果数据库中已存在，则不处理，否则a+添加到id文件中\n",
    "处理triple文件，a+追加到triple.txt中\n",
    "重新建造碎片（步骤5-7）\n",
    "mention2ent记得添加\n",
    "\n",
    "2.调用java服务，reload碎片，添加mention2ent碎片\n",
    "\n",
    "优化一下关系抽取，提前加载好模型（主要是关系抽取模型）\n",
    "还有时间的话，把men2entity解决一下\n",
    "整合上线\n",
    "做ppt排练"
   ]
  },
  {
   "cell_type": "code",
   "execution_count": 113,
   "metadata": {},
   "outputs": [
    {
     "data": {
      "text/plain": [
       "<Response [200]>"
      ]
     },
     "execution_count": 113,
     "metadata": {},
     "output_type": "execute_result"
    }
   ],
   "source": [
    "spo_list=[{\"predicate\": \"作者\", \"object_type\": \"人物\", \"subject_type\": \"图书作品\", \"object\": \"祝晓羽\", \"subject\": \"九十人飞行组\"}]\n",
    "from py2neo import Graph,Node,Relationship\n",
    "import json\n",
    "import os\n",
    "import requests\n",
    "from pandas import DataFrame\n",
    "\n",
    "graph = Graph(\"bolt://localhost:7687/db/schemaKG/\", username=\"neo4j\", password=\"kuda\")\n",
    "\n",
    "theCypherQuery= '''MERGE (j:%s {name: $subject})\n",
    "MERGE (m:%s {name: $_object})\n",
    "MERGE (j)-[r:%s]->(m)\n",
    "RETURN id(j),type(r),id(m)'''\n",
    "\n",
    "nodeQuery =\"\"\"\n",
    "match (n) where n.name=$name return n\n",
    "\"\"\"\n",
    "\n",
    "relationQuery =\"\"\"\n",
    "match (a)-[r]->(b) where a.name=$a_name and b.name=$b_name return r\n",
    "\"\"\"\n",
    "\n",
    "id_file_path =\"/home/lx/IdeaProject/gAnswer/data/pkubase/fragments/id_mappings/pkubase_entity_id.txt\"\n",
    "triple_file_path = \"/home/lx/IdeaProject/gAnswer/data/pkubase/triple.txt\"\n",
    "\n",
    "def check_if_node_exist(name):\n",
    "    res = graph.run(nodeQuery,parameters = {'name':name}).data()\n",
    "    if len(res) > 0:\n",
    "        return True\n",
    "    else:\n",
    "        return False\n",
    "    \n",
    "def check_if_rel_exist(a_name,b_name):\n",
    "    res = graph.run(relationQuery,parameters = {'a_name':a_name,'b_name':b_name}).data()\n",
    "    if len(res) > 0:\n",
    "        return True\n",
    "    else:\n",
    "        return False\n",
    "\n",
    "def insert(thisCypherQuery,subject_type,subject,object_type,_object,predicate):\n",
    "    query = thisCypherQuery % (subject_type,object_type,predicate)\n",
    "    cypherResult = graph.run(query,parameters = {'subject':subject,'_object':_object}).data()\n",
    "    return cypherResult\n",
    "\n",
    "def get_predicates():\n",
    "    data = DataFrame(graph.run(\"match ()-[r]->() return distinct type(r)\").data())\n",
    "    predicates = []\n",
    "    for index, row in data.iterrows():\n",
    "        predicates.append(row.to_list()[0])\n",
    "    return predicates\n",
    "\n",
    "def get_labels():\n",
    "    label_list = []\n",
    "    labels = DataFrame(graph.run(\"call db.labels()\").data())\n",
    "    for index, row in labels.iterrows():\n",
    "        if index == 0:\n",
    "            continue\n",
    "        label_list.append(row.to_list()[0])\n",
    "    return label_list\n",
    "\n",
    "predicates = get_predicates()\n",
    "labels = get_labels()\n",
    "id_file = open(id_file_path,\"a+\")\n",
    "triple_file = open(triple_file_path,\"a+\")\n",
    "new_entity = \"\"\n",
    "for spo in spo_list:\n",
    "    subject_exist = check_if_node_exist(spo['subject'])\n",
    "    object_exist = check_if_node_exist(spo['object'])\n",
    "    triple_exist = check_if_rel_exist(spo['subject'],spo['object'])\n",
    "    \n",
    "    res = insert(theCypherQuery,spo['subject_type'],spo['subject'],spo['object_type'],spo['object'],spo['predicate'])\n",
    "    data = DataFrame(res)\n",
    "\n",
    "    for index,row in data.iterrows():\n",
    "        \n",
    "        \n",
    "        if not subject_exist:\n",
    "            new_entity+=spo['subject']+\",\"\n",
    "            if spo['subject_type']=='Date' or spo['subject_type']=='Number' or spo['subject_type']=='Text':\n",
    "                triple_file.write(str(row['id(j)']) + ' ' + '48 -1\\n')\n",
    "            else:\n",
    "                triple_file.write(str(row['id(j)'])+' '+'48 '+str(labels.index(spo['subject_type']))+'\\n')\n",
    "            id_file.write('<'+spo['subject']+'>\\t'+str(row['id(j)'])+'\\n')\n",
    "            \n",
    "            \n",
    "        if not object_exist:\n",
    "            new_entity+=spo['object']+\",\"\n",
    "            id_file.write('<'+spo['object']+'>\\t'+str(row['id(m)'])+'\\n')\n",
    "            if spo['object_type']=='Date' or spo['object_type']=='Number' or spo['object_type']=='Text':\n",
    "                triple_file.write(str(row['id(m)']) + ' ' + '48 -1\\n')\n",
    "            else:\n",
    "                triple_file.write(str(row['id(m)'])+' '+'48 '+str(labels.index(spo['object_type']))+'\\n')\n",
    "            \n",
    "            \n",
    "        if not triple_exist:\n",
    "            triple_file.write(str(row['id(j)'])+' '+str(predicates.index(row['type(r)']))+' '+str(row['id(m)'])+'\\n')\n",
    "            \n",
    "id_file.close()\n",
    "triple_file.close()\n",
    "new_entity = new_entity[:-1]\n",
    "os.system(\"python /home/lx/PycharmProjects/kuda2.0/genrate_fragments/step5_get_entity_fragment.py\")\n",
    "os.system(\"python /home/lx/PycharmProjects/kuda2.0/genrate_fragments/step6_get_type_fragment.py\")\n",
    "os.system(\"python /home/lx/PycharmProjects/kuda2.0/genrate_fragments/step7_get_predicate_fragment.py\")\n",
    "requests.post('http://localhost:8082/gReload/',data = new_entity.encode('utf-8'))"
   ]
  },
  {
   "cell_type": "code",
   "execution_count": 56,
   "metadata": {},
   "outputs": [
    {
     "name": "stdout",
     "output_type": "stream",
     "text": [
      "['图书作品', '人物', '机构', 'Text', '影视作品', '娱乐人物', 'Date', '历史人物', '国家', '电视综艺', '学校', '行政区', '气候', '企业', '奖项', '文学作品', '歌曲', '音乐专辑', 'Number', '地点', '景点', '城市', '作品', '企业/品牌', '语言', '学科专业']\n"
     ]
    }
   ],
   "source": [
    "print(labels)"
   ]
  },
  {
   "cell_type": "code",
   "execution_count": 114,
   "metadata": {},
   "outputs": [
    {
     "name": "stdout",
     "output_type": "stream",
     "text": [
      "match (a)-[r]-(b) where a.name='九十人飞行组' and type(r)='作者' return distinct b\n"
     ]
    }
   ],
   "source": [
    "import requests\n",
    "import json\n",
    "cypher_res = requests.get('http://localhost:8082/gSolve/?data={question:\"《九十人飞行组》的作者是谁？\"}')\n",
    "obj = json.loads(cypher_res.text)\n",
    "print(obj['sparql'])"
   ]
  },
  {
   "cell_type": "code",
   "execution_count": 95,
   "metadata": {},
   "outputs": [
    {
     "data": {
      "text/plain": [
       "<Response [200]>"
      ]
     },
     "execution_count": 95,
     "metadata": {},
     "output_type": "execute_result"
    }
   ],
   "source": [
    "import requests\n",
    "data = \"西班牙,墨西哥\"\n",
    "\n",
    "requests.post('http://localhost:8082/gReload/',data = data.encode('utf-8'))"
   ]
  },
  {
   "cell_type": "code",
   "execution_count": null,
   "metadata": {},
   "outputs": [],
   "source": []
  }
 ],
 "metadata": {
  "kernelspec": {
   "display_name": "Python [conda env:kg] *",
   "language": "python",
   "name": "conda-env-kg-py"
  },
  "language_info": {
   "codemirror_mode": {
    "name": "ipython",
    "version": 3
   },
   "file_extension": ".py",
   "mimetype": "text/x-python",
   "name": "python",
   "nbconvert_exporter": "python",
   "pygments_lexer": "ipython3",
   "version": "3.6.10"
  }
 },
 "nbformat": 4,
 "nbformat_minor": 4
}
